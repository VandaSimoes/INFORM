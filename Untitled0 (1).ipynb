{
  "nbformat": 4,
  "nbformat_minor": 0,
  "metadata": {
    "colab": {
      "provenance": [],
      "toc_visible": true
    },
    "kernelspec": {
      "name": "python3",
      "display_name": "Python 3"
    },
    "language_info": {
      "name": "python"
    }
  },
  "cells": [
    {
      "cell_type": "markdown",
      "source": [
        "\n",
        "\n",
        "# Interactive Health Data Analysis and Visualization using Python, SQL and DuckDB in Google Colab\n",
        "### PhD in Health Data Science  - INFORM course"
      ],
      "metadata": {
        "id": "4PWKoqXLE4iD"
      }
    },
    {
      "cell_type": "markdown",
      "source": [],
      "metadata": {
        "id": "L6scA0HiOo6a"
      }
    },
    {
      "cell_type": "markdown",
      "source": [
        "## 1. Introduction\n",
        "The analysis of clinical and biochemical markers plays a critical role in understanding health conditions, particularly those related to liver function and alcohol consumption. This project leverages Python, SQL, DuckDB, and Google Colab to create an efficient and reproducible data analysis workflow. By combining advanced querying capabilities with interactive visualizations, the project aims to uncover patterns and relationships within the data. The ultimate goal is to demonstrate how modern tools can enhance insights in health data science.\n",
        "\n",
        "### 1.1 Objectives\n",
        "1. Data exploration using advanced visualization techniques.\n",
        "2. Efficient analysis workflows with Python, SQL, and DuckDB.\n",
        "3. Leveraging Google Colab for collaborative and reproducible results.\n",
        "\n",
        "### 1.2 Dataset information\n",
        "\n",
        "The first 5 variables are all blood tests which are thought to be sensitive to liver disorders that might arise from excessive alcohol consumption. Each line in the dataset constitutes the record of a single male individual. The 6th variable is related to the number of the intake drinks per day.\n",
        "\n",
        "MCV : mean corpuscular volume\n",
        "ALP\t: alkaline phosphotase\n",
        "ALT\t:\talanine aminotransferase\n",
        "AST\t: aspartate aminotransferase\n",
        "GGT\t: gamma-glutamyl transpeptidase\n",
        "Drinks : number of half-pint equivalents of alcoholic beverages drunk per day\n"
      ],
      "metadata": {
        "id": "uylORmhqI3FO"
      }
    },
    {
      "cell_type": "markdown",
      "source": [
        "## 2. Setup of the Environment\n",
        "\n",
        "- Python libraries: matplotlib, plotly, seaborn, pandas, numpy.\n",
        "\n",
        "- SQL and DuckDB for querying data directly within Python.\n",
        "\n",
        "Workflow Setup:\n",
        "1. Installing and configuring DuckDB.\n",
        "2. Loading data into DuckDB from Google Colab."
      ],
      "metadata": {
        "id": "gMMo9ep9I0JR"
      }
    },
    {
      "cell_type": "code",
      "execution_count": 1,
      "metadata": {
        "colab": {
          "base_uri": "https://localhost:8080/"
        },
        "id": "L3zn-wKwNVRE",
        "outputId": "b0be543d-30e6-4f00-9f53-220f03964182"
      },
      "outputs": [
        {
          "output_type": "stream",
          "name": "stdout",
          "text": [
            "Requirement already satisfied: duckdb in /usr/local/lib/python3.11/dist-packages (1.1.3)\n",
            "Collecting streamlit\n",
            "  Downloading streamlit-1.41.1-py2.py3-none-any.whl.metadata (8.5 kB)\n",
            "Requirement already satisfied: matplotlib in /usr/local/lib/python3.11/dist-packages (3.10.0)\n",
            "Requirement already satisfied: plotly in /usr/local/lib/python3.11/dist-packages (5.24.1)\n",
            "Requirement already satisfied: seaborn in /usr/local/lib/python3.11/dist-packages (0.13.2)\n",
            "Requirement already satisfied: pandas in /usr/local/lib/python3.11/dist-packages (2.2.2)\n",
            "Requirement already satisfied: numpy in /usr/local/lib/python3.11/dist-packages (1.26.4)\n",
            "Requirement already satisfied: altair<6,>=4.0 in /usr/local/lib/python3.11/dist-packages (from streamlit) (5.5.0)\n",
            "Requirement already satisfied: blinker<2,>=1.0.0 in /usr/local/lib/python3.11/dist-packages (from streamlit) (1.9.0)\n",
            "Requirement already satisfied: cachetools<6,>=4.0 in /usr/local/lib/python3.11/dist-packages (from streamlit) (5.5.0)\n",
            "Requirement already satisfied: click<9,>=7.0 in /usr/local/lib/python3.11/dist-packages (from streamlit) (8.1.8)\n",
            "Requirement already satisfied: packaging<25,>=20 in /usr/local/lib/python3.11/dist-packages (from streamlit) (24.2)\n",
            "Requirement already satisfied: pillow<12,>=7.1.0 in /usr/local/lib/python3.11/dist-packages (from streamlit) (11.1.0)\n",
            "Requirement already satisfied: protobuf<6,>=3.20 in /usr/local/lib/python3.11/dist-packages (from streamlit) (4.25.5)\n",
            "Requirement already satisfied: pyarrow>=7.0 in /usr/local/lib/python3.11/dist-packages (from streamlit) (17.0.0)\n",
            "Requirement already satisfied: requests<3,>=2.27 in /usr/local/lib/python3.11/dist-packages (from streamlit) (2.32.3)\n",
            "Requirement already satisfied: rich<14,>=10.14.0 in /usr/local/lib/python3.11/dist-packages (from streamlit) (13.9.4)\n",
            "Requirement already satisfied: tenacity<10,>=8.1.0 in /usr/local/lib/python3.11/dist-packages (from streamlit) (9.0.0)\n",
            "Requirement already satisfied: toml<2,>=0.10.1 in /usr/local/lib/python3.11/dist-packages (from streamlit) (0.10.2)\n",
            "Requirement already satisfied: typing-extensions<5,>=4.3.0 in /usr/local/lib/python3.11/dist-packages (from streamlit) (4.12.2)\n",
            "Collecting watchdog<7,>=2.1.5 (from streamlit)\n",
            "  Downloading watchdog-6.0.0-py3-none-manylinux2014_x86_64.whl.metadata (44 kB)\n",
            "\u001b[2K     \u001b[90m━━━━━━━━━━━━━━━━━━━━━━━━━━━━━━━━━━━━━━━━\u001b[0m \u001b[32m44.3/44.3 kB\u001b[0m \u001b[31m1.6 MB/s\u001b[0m eta \u001b[36m0:00:00\u001b[0m\n",
            "\u001b[?25hRequirement already satisfied: gitpython!=3.1.19,<4,>=3.0.7 in /usr/local/lib/python3.11/dist-packages (from streamlit) (3.1.44)\n",
            "Collecting pydeck<1,>=0.8.0b4 (from streamlit)\n",
            "  Downloading pydeck-0.9.1-py2.py3-none-any.whl.metadata (4.1 kB)\n",
            "Requirement already satisfied: tornado<7,>=6.0.3 in /usr/local/lib/python3.11/dist-packages (from streamlit) (6.3.3)\n",
            "Requirement already satisfied: contourpy>=1.0.1 in /usr/local/lib/python3.11/dist-packages (from matplotlib) (1.3.1)\n",
            "Requirement already satisfied: cycler>=0.10 in /usr/local/lib/python3.11/dist-packages (from matplotlib) (0.12.1)\n",
            "Requirement already satisfied: fonttools>=4.22.0 in /usr/local/lib/python3.11/dist-packages (from matplotlib) (4.55.3)\n",
            "Requirement already satisfied: kiwisolver>=1.3.1 in /usr/local/lib/python3.11/dist-packages (from matplotlib) (1.4.8)\n",
            "Requirement already satisfied: pyparsing>=2.3.1 in /usr/local/lib/python3.11/dist-packages (from matplotlib) (3.2.1)\n",
            "Requirement already satisfied: python-dateutil>=2.7 in /usr/local/lib/python3.11/dist-packages (from matplotlib) (2.8.2)\n",
            "Requirement already satisfied: pytz>=2020.1 in /usr/local/lib/python3.11/dist-packages (from pandas) (2024.2)\n",
            "Requirement already satisfied: tzdata>=2022.7 in /usr/local/lib/python3.11/dist-packages (from pandas) (2024.2)\n",
            "Requirement already satisfied: jinja2 in /usr/local/lib/python3.11/dist-packages (from altair<6,>=4.0->streamlit) (3.1.5)\n",
            "Requirement already satisfied: jsonschema>=3.0 in /usr/local/lib/python3.11/dist-packages (from altair<6,>=4.0->streamlit) (4.23.0)\n",
            "Requirement already satisfied: narwhals>=1.14.2 in /usr/local/lib/python3.11/dist-packages (from altair<6,>=4.0->streamlit) (1.21.1)\n",
            "Requirement already satisfied: gitdb<5,>=4.0.1 in /usr/local/lib/python3.11/dist-packages (from gitpython!=3.1.19,<4,>=3.0.7->streamlit) (4.0.12)\n",
            "Requirement already satisfied: six>=1.5 in /usr/local/lib/python3.11/dist-packages (from python-dateutil>=2.7->matplotlib) (1.17.0)\n",
            "Requirement already satisfied: charset-normalizer<4,>=2 in /usr/local/lib/python3.11/dist-packages (from requests<3,>=2.27->streamlit) (3.4.1)\n",
            "Requirement already satisfied: idna<4,>=2.5 in /usr/local/lib/python3.11/dist-packages (from requests<3,>=2.27->streamlit) (3.10)\n",
            "Requirement already satisfied: urllib3<3,>=1.21.1 in /usr/local/lib/python3.11/dist-packages (from requests<3,>=2.27->streamlit) (2.3.0)\n",
            "Requirement already satisfied: certifi>=2017.4.17 in /usr/local/lib/python3.11/dist-packages (from requests<3,>=2.27->streamlit) (2024.12.14)\n",
            "Requirement already satisfied: markdown-it-py>=2.2.0 in /usr/local/lib/python3.11/dist-packages (from rich<14,>=10.14.0->streamlit) (3.0.0)\n",
            "Requirement already satisfied: pygments<3.0.0,>=2.13.0 in /usr/local/lib/python3.11/dist-packages (from rich<14,>=10.14.0->streamlit) (2.18.0)\n",
            "Requirement already satisfied: smmap<6,>=3.0.1 in /usr/local/lib/python3.11/dist-packages (from gitdb<5,>=4.0.1->gitpython!=3.1.19,<4,>=3.0.7->streamlit) (5.0.2)\n",
            "Requirement already satisfied: MarkupSafe>=2.0 in /usr/local/lib/python3.11/dist-packages (from jinja2->altair<6,>=4.0->streamlit) (3.0.2)\n",
            "Requirement already satisfied: attrs>=22.2.0 in /usr/local/lib/python3.11/dist-packages (from jsonschema>=3.0->altair<6,>=4.0->streamlit) (24.3.0)\n",
            "Requirement already satisfied: jsonschema-specifications>=2023.03.6 in /usr/local/lib/python3.11/dist-packages (from jsonschema>=3.0->altair<6,>=4.0->streamlit) (2024.10.1)\n",
            "Requirement already satisfied: referencing>=0.28.4 in /usr/local/lib/python3.11/dist-packages (from jsonschema>=3.0->altair<6,>=4.0->streamlit) (0.35.1)\n",
            "Requirement already satisfied: rpds-py>=0.7.1 in /usr/local/lib/python3.11/dist-packages (from jsonschema>=3.0->altair<6,>=4.0->streamlit) (0.22.3)\n",
            "Requirement already satisfied: mdurl~=0.1 in /usr/local/lib/python3.11/dist-packages (from markdown-it-py>=2.2.0->rich<14,>=10.14.0->streamlit) (0.1.2)\n",
            "Downloading streamlit-1.41.1-py2.py3-none-any.whl (9.1 MB)\n",
            "\u001b[2K   \u001b[90m━━━━━━━━━━━━━━━━━━━━━━━━━━━━━━━━━━━━━━━━\u001b[0m \u001b[32m9.1/9.1 MB\u001b[0m \u001b[31m58.0 MB/s\u001b[0m eta \u001b[36m0:00:00\u001b[0m\n",
            "\u001b[?25hDownloading pydeck-0.9.1-py2.py3-none-any.whl (6.9 MB)\n",
            "\u001b[2K   \u001b[90m━━━━━━━━━━━━━━━━━━━━━━━━━━━━━━━━━━━━━━━━\u001b[0m \u001b[32m6.9/6.9 MB\u001b[0m \u001b[31m88.3 MB/s\u001b[0m eta \u001b[36m0:00:00\u001b[0m\n",
            "\u001b[?25hDownloading watchdog-6.0.0-py3-none-manylinux2014_x86_64.whl (79 kB)\n",
            "\u001b[2K   \u001b[90m━━━━━━━━━━━━━━━━━━━━━━━━━━━━━━━━━━━━━━━━\u001b[0m \u001b[32m79.1/79.1 kB\u001b[0m \u001b[31m5.9 MB/s\u001b[0m eta \u001b[36m0:00:00\u001b[0m\n",
            "\u001b[?25hInstalling collected packages: watchdog, pydeck, streamlit\n",
            "Successfully installed pydeck-0.9.1 streamlit-1.41.1 watchdog-6.0.0\n"
          ]
        }
      ],
      "source": [
        "!pip install duckdb streamlit matplotlib plotly seaborn pandas numpy"
      ]
    },
    {
      "cell_type": "code",
      "source": [
        "import duckdb\n",
        "import plotly.express as px\n",
        "import seaborn as sns\n",
        "import matplotlib.pyplot as plt"
      ],
      "metadata": {
        "id": "XL6GS877rG8Z"
      },
      "execution_count": 2,
      "outputs": []
    },
    {
      "cell_type": "code",
      "source": [
        "conn = duckdb.connect()\n"
      ],
      "metadata": {
        "id": "7tHLceC3rMBB"
      },
      "execution_count": 3,
      "outputs": []
    },
    {
      "cell_type": "code",
      "source": [
        "query = \"\"\"\n",
        "CREATE TABLE bupa AS\n",
        "SELECT\n",
        "    column0 AS MCV,\n",
        "    column1 AS ALP,\n",
        "    column2 AS ALT,\n",
        "    column3 AS AST,\n",
        "    column4 AS GGT,\n",
        "    column5 AS Drinks\n",
        "FROM read_csv_auto('bupa.data');\n",
        "\"\"\""
      ],
      "metadata": {
        "id": "tUn8xUOvrRoI"
      },
      "execution_count": 4,
      "outputs": []
    },
    {
      "cell_type": "code",
      "source": [
        "conn.execute(query)\n"
      ],
      "metadata": {
        "colab": {
          "base_uri": "https://localhost:8080/"
        },
        "id": "8fU89B27sLo9",
        "outputId": "d16625ac-6fa1-4f56-edb8-22d9d25a0b5d"
      },
      "execution_count": 5,
      "outputs": [
        {
          "output_type": "execute_result",
          "data": {
            "text/plain": [
              "<duckdb.duckdb.DuckDBPyConnection at 0x7e753c1229b0>"
            ]
          },
          "metadata": {},
          "execution_count": 5
        }
      ]
    },
    {
      "cell_type": "code",
      "source": [
        "query = \"\"\"\n",
        "select *\n",
        "from bupa\n",
        "\"\"\""
      ],
      "metadata": {
        "id": "nyEy4bnMsYmv"
      },
      "execution_count": 6,
      "outputs": []
    },
    {
      "cell_type": "code",
      "source": [
        "df = conn.sql(query).df()\n",
        "df"
      ],
      "metadata": {
        "colab": {
          "base_uri": "https://localhost:8080/",
          "height": 424
        },
        "id": "n_6g8DpIsdlp",
        "outputId": "16f89df7-a536-44f5-cf2d-ba95a79d8af9"
      },
      "execution_count": 7,
      "outputs": [
        {
          "output_type": "execute_result",
          "data": {
            "text/plain": [
              "     MCV  ALP  ALT  AST  GGT  Drinks\n",
              "0     85   92   45   27   31     0.0\n",
              "1     85   64   59   32   23     0.0\n",
              "2     86   54   33   16   54     0.0\n",
              "3     91   78   34   24   36     0.0\n",
              "4     87   70   12   28   10     0.0\n",
              "..   ...  ...  ...  ...  ...     ...\n",
              "340   99   75   26   24   41    12.0\n",
              "341   96   69   53   43  203    12.0\n",
              "342   98   77   55   35   89    15.0\n",
              "343   91   68   27   26   14    16.0\n",
              "344   98   99   57   45   65    20.0\n",
              "\n",
              "[345 rows x 6 columns]"
            ],
            "text/html": [
              "\n",
              "  <div id=\"df-9246498c-09ef-4621-9a34-31e277d8675e\" class=\"colab-df-container\">\n",
              "    <div>\n",
              "<style scoped>\n",
              "    .dataframe tbody tr th:only-of-type {\n",
              "        vertical-align: middle;\n",
              "    }\n",
              "\n",
              "    .dataframe tbody tr th {\n",
              "        vertical-align: top;\n",
              "    }\n",
              "\n",
              "    .dataframe thead th {\n",
              "        text-align: right;\n",
              "    }\n",
              "</style>\n",
              "<table border=\"1\" class=\"dataframe\">\n",
              "  <thead>\n",
              "    <tr style=\"text-align: right;\">\n",
              "      <th></th>\n",
              "      <th>MCV</th>\n",
              "      <th>ALP</th>\n",
              "      <th>ALT</th>\n",
              "      <th>AST</th>\n",
              "      <th>GGT</th>\n",
              "      <th>Drinks</th>\n",
              "    </tr>\n",
              "  </thead>\n",
              "  <tbody>\n",
              "    <tr>\n",
              "      <th>0</th>\n",
              "      <td>85</td>\n",
              "      <td>92</td>\n",
              "      <td>45</td>\n",
              "      <td>27</td>\n",
              "      <td>31</td>\n",
              "      <td>0.0</td>\n",
              "    </tr>\n",
              "    <tr>\n",
              "      <th>1</th>\n",
              "      <td>85</td>\n",
              "      <td>64</td>\n",
              "      <td>59</td>\n",
              "      <td>32</td>\n",
              "      <td>23</td>\n",
              "      <td>0.0</td>\n",
              "    </tr>\n",
              "    <tr>\n",
              "      <th>2</th>\n",
              "      <td>86</td>\n",
              "      <td>54</td>\n",
              "      <td>33</td>\n",
              "      <td>16</td>\n",
              "      <td>54</td>\n",
              "      <td>0.0</td>\n",
              "    </tr>\n",
              "    <tr>\n",
              "      <th>3</th>\n",
              "      <td>91</td>\n",
              "      <td>78</td>\n",
              "      <td>34</td>\n",
              "      <td>24</td>\n",
              "      <td>36</td>\n",
              "      <td>0.0</td>\n",
              "    </tr>\n",
              "    <tr>\n",
              "      <th>4</th>\n",
              "      <td>87</td>\n",
              "      <td>70</td>\n",
              "      <td>12</td>\n",
              "      <td>28</td>\n",
              "      <td>10</td>\n",
              "      <td>0.0</td>\n",
              "    </tr>\n",
              "    <tr>\n",
              "      <th>...</th>\n",
              "      <td>...</td>\n",
              "      <td>...</td>\n",
              "      <td>...</td>\n",
              "      <td>...</td>\n",
              "      <td>...</td>\n",
              "      <td>...</td>\n",
              "    </tr>\n",
              "    <tr>\n",
              "      <th>340</th>\n",
              "      <td>99</td>\n",
              "      <td>75</td>\n",
              "      <td>26</td>\n",
              "      <td>24</td>\n",
              "      <td>41</td>\n",
              "      <td>12.0</td>\n",
              "    </tr>\n",
              "    <tr>\n",
              "      <th>341</th>\n",
              "      <td>96</td>\n",
              "      <td>69</td>\n",
              "      <td>53</td>\n",
              "      <td>43</td>\n",
              "      <td>203</td>\n",
              "      <td>12.0</td>\n",
              "    </tr>\n",
              "    <tr>\n",
              "      <th>342</th>\n",
              "      <td>98</td>\n",
              "      <td>77</td>\n",
              "      <td>55</td>\n",
              "      <td>35</td>\n",
              "      <td>89</td>\n",
              "      <td>15.0</td>\n",
              "    </tr>\n",
              "    <tr>\n",
              "      <th>343</th>\n",
              "      <td>91</td>\n",
              "      <td>68</td>\n",
              "      <td>27</td>\n",
              "      <td>26</td>\n",
              "      <td>14</td>\n",
              "      <td>16.0</td>\n",
              "    </tr>\n",
              "    <tr>\n",
              "      <th>344</th>\n",
              "      <td>98</td>\n",
              "      <td>99</td>\n",
              "      <td>57</td>\n",
              "      <td>45</td>\n",
              "      <td>65</td>\n",
              "      <td>20.0</td>\n",
              "    </tr>\n",
              "  </tbody>\n",
              "</table>\n",
              "<p>345 rows × 6 columns</p>\n",
              "</div>\n",
              "    <div class=\"colab-df-buttons\">\n",
              "\n",
              "  <div class=\"colab-df-container\">\n",
              "    <button class=\"colab-df-convert\" onclick=\"convertToInteractive('df-9246498c-09ef-4621-9a34-31e277d8675e')\"\n",
              "            title=\"Convert this dataframe to an interactive table.\"\n",
              "            style=\"display:none;\">\n",
              "\n",
              "  <svg xmlns=\"http://www.w3.org/2000/svg\" height=\"24px\" viewBox=\"0 -960 960 960\">\n",
              "    <path d=\"M120-120v-720h720v720H120Zm60-500h600v-160H180v160Zm220 220h160v-160H400v160Zm0 220h160v-160H400v160ZM180-400h160v-160H180v160Zm440 0h160v-160H620v160ZM180-180h160v-160H180v160Zm440 0h160v-160H620v160Z\"/>\n",
              "  </svg>\n",
              "    </button>\n",
              "\n",
              "  <style>\n",
              "    .colab-df-container {\n",
              "      display:flex;\n",
              "      gap: 12px;\n",
              "    }\n",
              "\n",
              "    .colab-df-convert {\n",
              "      background-color: #E8F0FE;\n",
              "      border: none;\n",
              "      border-radius: 50%;\n",
              "      cursor: pointer;\n",
              "      display: none;\n",
              "      fill: #1967D2;\n",
              "      height: 32px;\n",
              "      padding: 0 0 0 0;\n",
              "      width: 32px;\n",
              "    }\n",
              "\n",
              "    .colab-df-convert:hover {\n",
              "      background-color: #E2EBFA;\n",
              "      box-shadow: 0px 1px 2px rgba(60, 64, 67, 0.3), 0px 1px 3px 1px rgba(60, 64, 67, 0.15);\n",
              "      fill: #174EA6;\n",
              "    }\n",
              "\n",
              "    .colab-df-buttons div {\n",
              "      margin-bottom: 4px;\n",
              "    }\n",
              "\n",
              "    [theme=dark] .colab-df-convert {\n",
              "      background-color: #3B4455;\n",
              "      fill: #D2E3FC;\n",
              "    }\n",
              "\n",
              "    [theme=dark] .colab-df-convert:hover {\n",
              "      background-color: #434B5C;\n",
              "      box-shadow: 0px 1px 3px 1px rgba(0, 0, 0, 0.15);\n",
              "      filter: drop-shadow(0px 1px 2px rgba(0, 0, 0, 0.3));\n",
              "      fill: #FFFFFF;\n",
              "    }\n",
              "  </style>\n",
              "\n",
              "    <script>\n",
              "      const buttonEl =\n",
              "        document.querySelector('#df-9246498c-09ef-4621-9a34-31e277d8675e button.colab-df-convert');\n",
              "      buttonEl.style.display =\n",
              "        google.colab.kernel.accessAllowed ? 'block' : 'none';\n",
              "\n",
              "      async function convertToInteractive(key) {\n",
              "        const element = document.querySelector('#df-9246498c-09ef-4621-9a34-31e277d8675e');\n",
              "        const dataTable =\n",
              "          await google.colab.kernel.invokeFunction('convertToInteractive',\n",
              "                                                    [key], {});\n",
              "        if (!dataTable) return;\n",
              "\n",
              "        const docLinkHtml = 'Like what you see? Visit the ' +\n",
              "          '<a target=\"_blank\" href=https://colab.research.google.com/notebooks/data_table.ipynb>data table notebook</a>'\n",
              "          + ' to learn more about interactive tables.';\n",
              "        element.innerHTML = '';\n",
              "        dataTable['output_type'] = 'display_data';\n",
              "        await google.colab.output.renderOutput(dataTable, element);\n",
              "        const docLink = document.createElement('div');\n",
              "        docLink.innerHTML = docLinkHtml;\n",
              "        element.appendChild(docLink);\n",
              "      }\n",
              "    </script>\n",
              "  </div>\n",
              "\n",
              "\n",
              "<div id=\"df-28867224-5631-4c6f-b0d2-50c1531b868c\">\n",
              "  <button class=\"colab-df-quickchart\" onclick=\"quickchart('df-28867224-5631-4c6f-b0d2-50c1531b868c')\"\n",
              "            title=\"Suggest charts\"\n",
              "            style=\"display:none;\">\n",
              "\n",
              "<svg xmlns=\"http://www.w3.org/2000/svg\" height=\"24px\"viewBox=\"0 0 24 24\"\n",
              "     width=\"24px\">\n",
              "    <g>\n",
              "        <path d=\"M19 3H5c-1.1 0-2 .9-2 2v14c0 1.1.9 2 2 2h14c1.1 0 2-.9 2-2V5c0-1.1-.9-2-2-2zM9 17H7v-7h2v7zm4 0h-2V7h2v10zm4 0h-2v-4h2v4z\"/>\n",
              "    </g>\n",
              "</svg>\n",
              "  </button>\n",
              "\n",
              "<style>\n",
              "  .colab-df-quickchart {\n",
              "      --bg-color: #E8F0FE;\n",
              "      --fill-color: #1967D2;\n",
              "      --hover-bg-color: #E2EBFA;\n",
              "      --hover-fill-color: #174EA6;\n",
              "      --disabled-fill-color: #AAA;\n",
              "      --disabled-bg-color: #DDD;\n",
              "  }\n",
              "\n",
              "  [theme=dark] .colab-df-quickchart {\n",
              "      --bg-color: #3B4455;\n",
              "      --fill-color: #D2E3FC;\n",
              "      --hover-bg-color: #434B5C;\n",
              "      --hover-fill-color: #FFFFFF;\n",
              "      --disabled-bg-color: #3B4455;\n",
              "      --disabled-fill-color: #666;\n",
              "  }\n",
              "\n",
              "  .colab-df-quickchart {\n",
              "    background-color: var(--bg-color);\n",
              "    border: none;\n",
              "    border-radius: 50%;\n",
              "    cursor: pointer;\n",
              "    display: none;\n",
              "    fill: var(--fill-color);\n",
              "    height: 32px;\n",
              "    padding: 0;\n",
              "    width: 32px;\n",
              "  }\n",
              "\n",
              "  .colab-df-quickchart:hover {\n",
              "    background-color: var(--hover-bg-color);\n",
              "    box-shadow: 0 1px 2px rgba(60, 64, 67, 0.3), 0 1px 3px 1px rgba(60, 64, 67, 0.15);\n",
              "    fill: var(--button-hover-fill-color);\n",
              "  }\n",
              "\n",
              "  .colab-df-quickchart-complete:disabled,\n",
              "  .colab-df-quickchart-complete:disabled:hover {\n",
              "    background-color: var(--disabled-bg-color);\n",
              "    fill: var(--disabled-fill-color);\n",
              "    box-shadow: none;\n",
              "  }\n",
              "\n",
              "  .colab-df-spinner {\n",
              "    border: 2px solid var(--fill-color);\n",
              "    border-color: transparent;\n",
              "    border-bottom-color: var(--fill-color);\n",
              "    animation:\n",
              "      spin 1s steps(1) infinite;\n",
              "  }\n",
              "\n",
              "  @keyframes spin {\n",
              "    0% {\n",
              "      border-color: transparent;\n",
              "      border-bottom-color: var(--fill-color);\n",
              "      border-left-color: var(--fill-color);\n",
              "    }\n",
              "    20% {\n",
              "      border-color: transparent;\n",
              "      border-left-color: var(--fill-color);\n",
              "      border-top-color: var(--fill-color);\n",
              "    }\n",
              "    30% {\n",
              "      border-color: transparent;\n",
              "      border-left-color: var(--fill-color);\n",
              "      border-top-color: var(--fill-color);\n",
              "      border-right-color: var(--fill-color);\n",
              "    }\n",
              "    40% {\n",
              "      border-color: transparent;\n",
              "      border-right-color: var(--fill-color);\n",
              "      border-top-color: var(--fill-color);\n",
              "    }\n",
              "    60% {\n",
              "      border-color: transparent;\n",
              "      border-right-color: var(--fill-color);\n",
              "    }\n",
              "    80% {\n",
              "      border-color: transparent;\n",
              "      border-right-color: var(--fill-color);\n",
              "      border-bottom-color: var(--fill-color);\n",
              "    }\n",
              "    90% {\n",
              "      border-color: transparent;\n",
              "      border-bottom-color: var(--fill-color);\n",
              "    }\n",
              "  }\n",
              "</style>\n",
              "\n",
              "  <script>\n",
              "    async function quickchart(key) {\n",
              "      const quickchartButtonEl =\n",
              "        document.querySelector('#' + key + ' button');\n",
              "      quickchartButtonEl.disabled = true;  // To prevent multiple clicks.\n",
              "      quickchartButtonEl.classList.add('colab-df-spinner');\n",
              "      try {\n",
              "        const charts = await google.colab.kernel.invokeFunction(\n",
              "            'suggestCharts', [key], {});\n",
              "      } catch (error) {\n",
              "        console.error('Error during call to suggestCharts:', error);\n",
              "      }\n",
              "      quickchartButtonEl.classList.remove('colab-df-spinner');\n",
              "      quickchartButtonEl.classList.add('colab-df-quickchart-complete');\n",
              "    }\n",
              "    (() => {\n",
              "      let quickchartButtonEl =\n",
              "        document.querySelector('#df-28867224-5631-4c6f-b0d2-50c1531b868c button');\n",
              "      quickchartButtonEl.style.display =\n",
              "        google.colab.kernel.accessAllowed ? 'block' : 'none';\n",
              "    })();\n",
              "  </script>\n",
              "</div>\n",
              "\n",
              "  <div id=\"id_c9a09681-f4f1-4d13-86d8-66ec7d917eb2\">\n",
              "    <style>\n",
              "      .colab-df-generate {\n",
              "        background-color: #E8F0FE;\n",
              "        border: none;\n",
              "        border-radius: 50%;\n",
              "        cursor: pointer;\n",
              "        display: none;\n",
              "        fill: #1967D2;\n",
              "        height: 32px;\n",
              "        padding: 0 0 0 0;\n",
              "        width: 32px;\n",
              "      }\n",
              "\n",
              "      .colab-df-generate:hover {\n",
              "        background-color: #E2EBFA;\n",
              "        box-shadow: 0px 1px 2px rgba(60, 64, 67, 0.3), 0px 1px 3px 1px rgba(60, 64, 67, 0.15);\n",
              "        fill: #174EA6;\n",
              "      }\n",
              "\n",
              "      [theme=dark] .colab-df-generate {\n",
              "        background-color: #3B4455;\n",
              "        fill: #D2E3FC;\n",
              "      }\n",
              "\n",
              "      [theme=dark] .colab-df-generate:hover {\n",
              "        background-color: #434B5C;\n",
              "        box-shadow: 0px 1px 3px 1px rgba(0, 0, 0, 0.15);\n",
              "        filter: drop-shadow(0px 1px 2px rgba(0, 0, 0, 0.3));\n",
              "        fill: #FFFFFF;\n",
              "      }\n",
              "    </style>\n",
              "    <button class=\"colab-df-generate\" onclick=\"generateWithVariable('df')\"\n",
              "            title=\"Generate code using this dataframe.\"\n",
              "            style=\"display:none;\">\n",
              "\n",
              "  <svg xmlns=\"http://www.w3.org/2000/svg\" height=\"24px\"viewBox=\"0 0 24 24\"\n",
              "       width=\"24px\">\n",
              "    <path d=\"M7,19H8.4L18.45,9,17,7.55,7,17.6ZM5,21V16.75L18.45,3.32a2,2,0,0,1,2.83,0l1.4,1.43a1.91,1.91,0,0,1,.58,1.4,1.91,1.91,0,0,1-.58,1.4L9.25,21ZM18.45,9,17,7.55Zm-12,3A5.31,5.31,0,0,0,4.9,8.1,5.31,5.31,0,0,0,1,6.5,5.31,5.31,0,0,0,4.9,4.9,5.31,5.31,0,0,0,6.5,1,5.31,5.31,0,0,0,8.1,4.9,5.31,5.31,0,0,0,12,6.5,5.46,5.46,0,0,0,6.5,12Z\"/>\n",
              "  </svg>\n",
              "    </button>\n",
              "    <script>\n",
              "      (() => {\n",
              "      const buttonEl =\n",
              "        document.querySelector('#id_c9a09681-f4f1-4d13-86d8-66ec7d917eb2 button.colab-df-generate');\n",
              "      buttonEl.style.display =\n",
              "        google.colab.kernel.accessAllowed ? 'block' : 'none';\n",
              "\n",
              "      buttonEl.onclick = () => {\n",
              "        google.colab.notebook.generateWithVariable('df');\n",
              "      }\n",
              "      })();\n",
              "    </script>\n",
              "  </div>\n",
              "\n",
              "    </div>\n",
              "  </div>\n"
            ],
            "application/vnd.google.colaboratory.intrinsic+json": {
              "type": "dataframe",
              "variable_name": "df",
              "summary": "{\n  \"name\": \"df\",\n  \"rows\": 345,\n  \"fields\": [\n    {\n      \"column\": \"MCV\",\n      \"properties\": {\n        \"dtype\": \"number\",\n        \"std\": 4,\n        \"min\": 65,\n        \"max\": 103,\n        \"num_unique_values\": 26,\n        \"samples\": [\n          89,\n          83,\n          85\n        ],\n        \"semantic_type\": \"\",\n        \"description\": \"\"\n      }\n    },\n    {\n      \"column\": \"ALP\",\n      \"properties\": {\n        \"dtype\": \"number\",\n        \"std\": 18,\n        \"min\": 23,\n        \"max\": 138,\n        \"num_unique_values\": 78,\n        \"samples\": [\n          50,\n          92,\n          75\n        ],\n        \"semantic_type\": \"\",\n        \"description\": \"\"\n      }\n    },\n    {\n      \"column\": \"ALT\",\n      \"properties\": {\n        \"dtype\": \"number\",\n        \"std\": 19,\n        \"min\": 4,\n        \"max\": 155,\n        \"num_unique_values\": 67,\n        \"samples\": [\n          42,\n          18,\n          12\n        ],\n        \"semantic_type\": \"\",\n        \"description\": \"\"\n      }\n    },\n    {\n      \"column\": \"AST\",\n      \"properties\": {\n        \"dtype\": \"number\",\n        \"std\": 10,\n        \"min\": 5,\n        \"max\": 82,\n        \"num_unique_values\": 47,\n        \"samples\": [\n          30,\n          41,\n          8\n        ],\n        \"semantic_type\": \"\",\n        \"description\": \"\"\n      }\n    },\n    {\n      \"column\": \"GGT\",\n      \"properties\": {\n        \"dtype\": \"number\",\n        \"std\": 39,\n        \"min\": 5,\n        \"max\": 297,\n        \"num_unique_values\": 94,\n        \"samples\": [\n          53,\n          82,\n          37\n        ],\n        \"semantic_type\": \"\",\n        \"description\": \"\"\n      }\n    },\n    {\n      \"column\": \"Drinks\",\n      \"properties\": {\n        \"dtype\": \"number\",\n        \"std\": 3.337835264577127,\n        \"min\": 0.0,\n        \"max\": 20.0,\n        \"num_unique_values\": 16,\n        \"samples\": [\n          0.0,\n          0.5,\n          4.0\n        ],\n        \"semantic_type\": \"\",\n        \"description\": \"\"\n      }\n    }\n  ]\n}"
            }
          },
          "metadata": {},
          "execution_count": 7
        }
      ]
    },
    {
      "cell_type": "markdown",
      "source": [
        "## 3. Exploratory Data Analysis (EDA)\n",
        "\n",
        "- Data Overview: Descriptive statistics (mean, min, max, standard deviation).\n",
        "- Checking for missing values or inconsistencies.\n",
        "- Data Cleaning: Handling missing values, duplicates, or formatting issues."
      ],
      "metadata": {
        "id": "R8BvZLusNrxM"
      }
    },
    {
      "cell_type": "code",
      "source": [
        "\n",
        "### 1. Basic Data Overview ###\n",
        "print(\"### Data Overview ###\\n\")\n",
        "print(df.head())  # Display first 5 rows\n",
        "print(\"\\nShape of the dataset (Rows, Columns):\", df.shape)  # Shape of the data\n",
        "print(\"\\nData Types:\\n\", df.dtypes)  # Data types of each column\n",
        "\n",
        "# Check for missing values\n",
        "print(\"\\n### Missing Values ###\")\n",
        "print(df.isnull().sum())\n",
        "\n",
        "# Summary statistics for numerical variables\n",
        "print(\"\\n### Descriptive Statistics ###\")\n",
        "print(df.describe())\n",
        "\n",
        "# Check for duplicates\n",
        "print(\"\\n### Duplicates ###\")\n",
        "duplicates = df.duplicated().sum()\n",
        "print(f\"Number of duplicate rows: {duplicates}\")\n",
        "\n"
      ],
      "metadata": {
        "colab": {
          "base_uri": "https://localhost:8080/"
        },
        "id": "WhRkR9hmPljQ",
        "outputId": "3c70f752-22da-4983-efde-5a06ea0b92ca"
      },
      "execution_count": 8,
      "outputs": [
        {
          "output_type": "stream",
          "name": "stdout",
          "text": [
            "### Data Overview ###\n",
            "\n",
            "   MCV  ALP  ALT  AST  GGT  Drinks\n",
            "0   85   92   45   27   31     0.0\n",
            "1   85   64   59   32   23     0.0\n",
            "2   86   54   33   16   54     0.0\n",
            "3   91   78   34   24   36     0.0\n",
            "4   87   70   12   28   10     0.0\n",
            "\n",
            "Shape of the dataset (Rows, Columns): (345, 6)\n",
            "\n",
            "Data Types:\n",
            " MCV         int64\n",
            "ALP         int64\n",
            "ALT         int64\n",
            "AST         int64\n",
            "GGT         int64\n",
            "Drinks    float64\n",
            "dtype: object\n",
            "\n",
            "### Missing Values ###\n",
            "MCV       0\n",
            "ALP       0\n",
            "ALT       0\n",
            "AST       0\n",
            "GGT       0\n",
            "Drinks    0\n",
            "dtype: int64\n",
            "\n",
            "### Descriptive Statistics ###\n",
            "              MCV         ALP         ALT         AST         GGT      Drinks\n",
            "count  345.000000  345.000000  345.000000  345.000000  345.000000  345.000000\n",
            "mean    90.159420   69.869565   30.405797   24.643478   38.284058    3.455072\n",
            "std      4.448096   18.347670   19.512309   10.064494   39.254616    3.337835\n",
            "min     65.000000   23.000000    4.000000    5.000000    5.000000    0.000000\n",
            "25%     87.000000   57.000000   19.000000   19.000000   15.000000    0.500000\n",
            "50%     90.000000   67.000000   26.000000   23.000000   25.000000    3.000000\n",
            "75%     93.000000   80.000000   34.000000   27.000000   46.000000    6.000000\n",
            "max    103.000000  138.000000  155.000000   82.000000  297.000000   20.000000\n",
            "\n",
            "### Duplicates ###\n",
            "Number of duplicate rows: 4\n"
          ]
        }
      ]
    },
    {
      "cell_type": "markdown",
      "source": [
        "Despite having 4 duplicate rows, we decided to retain these values since there are no unique identifiers in the dataset. These duplicates correspond to individuals who have identical biochemical values."
      ],
      "metadata": {
        "id": "7VQzBdfEfFNL"
      }
    },
    {
      "cell_type": "markdown",
      "source": [
        "## 4. Data Visualization\n"
      ],
      "metadata": {
        "id": "iVEGIZLmRbRM"
      }
    },
    {
      "cell_type": "markdown",
      "source": [
        "## 4.1 Box Plot distribution\n",
        "\n",
        "Boxplots are great for comparing distributions, showing central tendency (median), spread (interquartile range), and the presence of outliers."
      ],
      "metadata": {
        "id": "n5L35_UuMA_G"
      }
    },
    {
      "cell_type": "code",
      "source": [
        "\n",
        "\n",
        "# Data\n",
        "df.columns = ['MCV', 'ALP', 'ALT', 'AST', 'GGT', 'Drinks']\n",
        "\n",
        "# Long_data\n",
        "long_data = df.melt(value_vars=['MCV', 'ALP', 'ALT', 'AST', 'GGT', 'Drinks'],\n",
        "                    var_name='Variable',\n",
        "                    value_name='Value')\n",
        "\n",
        "# Graph\n",
        "plt.figure(figsize=(12, 8))\n",
        "\n",
        "sns.boxplot(\n",
        "    data=long_data,\n",
        "    x='Variable',\n",
        "    y='Value',\n",
        "    palette=\"viridis\"\n",
        ")\n",
        "\n",
        "# Titles\n",
        "plt.title('Box Plot distributions', fontsize=16)\n",
        "plt.xlabel('Variable', fontsize=12)\n",
        "plt.ylabel('Value', fontsize=12)\n",
        "plt.tight_layout()\n",
        "\n",
        "plt.show()\n"
      ],
      "metadata": {
        "colab": {
          "base_uri": "https://localhost:8080/",
          "height": 916
        },
        "id": "JxkLoLtmMvWJ",
        "outputId": "472cafbf-04ef-43d4-e95e-e65d6fc31dbc"
      },
      "execution_count": 9,
      "outputs": [
        {
          "output_type": "stream",
          "name": "stderr",
          "text": [
            "<ipython-input-9-2256f267314b>:12: FutureWarning: \n",
            "\n",
            "Passing `palette` without assigning `hue` is deprecated and will be removed in v0.14.0. Assign the `x` variable to `hue` and set `legend=False` for the same effect.\n",
            "\n",
            "  sns.boxplot(\n"
          ]
        },
        {
          "output_type": "display_data",
          "data": {
            "text/plain": [
              "<Figure size 1200x800 with 1 Axes>"
            ],
            "image/png": "[encoded data removed]"
          },
          "metadata": {}
        }
      ]
    },
    {
      "cell_type": "markdown",
      "source": [
        "### 4.2 Correlation between ALT and AST\n",
        " The scatter plot above illustrates the relationship between the variables ALT and AST, two important biochemical markers related to liver function. As expected the points show a positive linear trend, this suggests a direct association between the two variables, meaning higher ALT values are likely associated with higher AST values."
      ],
      "metadata": {
        "id": "J4G8W3tUWJ_Q"
      }
    },
    {
      "source": [
        "\n",
        "plt.figure(figsize=(8, 6))\n",
        "plt.scatter(df['ALT'], df['AST'], alpha=0.5)\n",
        "plt.title('Correlation between ALT and AST')\n",
        "plt.xlabel('ALT')\n",
        "_ = plt.ylabel('AST')"
      ],
      "cell_type": "code",
      "execution_count": 10,
      "outputs": [
        {
          "output_type": "display_data",
          "data": {
            "text/plain": [
              "<Figure size 800x600 with 1 Axes>"
            ],
            "image/png": "[encoded data removed]"
          },
          "metadata": {}
        }
      ],
      "metadata": {
        "colab": {
          "base_uri": "https://localhost:8080/",
          "height": 564
        },
        "id": "bkjB5HE1tPy5",
        "outputId": "833c1bb9-4940-4271-d643-6c686e120431"
      }
    },
    {
      "cell_type": "code",
      "source": [],
      "metadata": {
        "id": "ja_3FUA09vx_"
      },
      "execution_count": 10,
      "outputs": []
    },
    {
      "cell_type": "markdown",
      "source": [],
      "metadata": {
        "id": "ygntqDBvRQ6Q"
      }
    },
    {
      "cell_type": "markdown",
      "source": [
        "### 4.3 MCV vs Drinks with ALT as Size and GGT as Color\n",
        "\n",
        "This plot provides a multi-dimensional view of how MCV, Drinks, and liver enzymes (ALT, GGT) are interconnected, allowing for an in-depth analysis of potential patterns between alcohol consumption and liver health. This interactive scatter plot visualizes the relationship between MCV and Drinks, with additional dimensions: the size of each bubble is proportional to ALT levels, providing insight into liver function related to red blood cell volume and alcohol consumption and the color of the bubbles represents GGT, another liver enzyme, with a color gradient indicating its value. Hover Data shows additional information on AST and ALP when hovering over each bubble.\n",
        "\n",
        "It was expected to see larger bubbles in top of the plot, that would indicate the relation between alcool consuption and liver enzimes increase. That assumption is not clear in this plot."
      ],
      "metadata": {
        "id": "X1NA1FIMbKHQ"
      }
    },
    {
      "cell_type": "code",
      "source": [
        "fig = px.scatter(\n",
        "    df,\n",
        "    x=\"MCV\",\n",
        "    y=\"Drinks\",\n",
        "    size=\"ALT\",\n",
        "    color=\"GGT\",\n",
        "    hover_data=['AST', 'ALP'],\n",
        "    title=\"MCV vs Drinks with ALT as Size and GGT as Color\"\n",
        ")\n",
        "fig.show()\n"
      ],
      "metadata": {
        "colab": {
          "base_uri": "https://localhost:8080/",
          "height": 542
        },
        "id": "-z7BVjNH9xK3",
        "outputId": "7a857031-1ff6-429e-9d86-83d47bfe5074"
      },
      "execution_count": 11,
      "outputs": [
        {
          "output_type": "display_data",
          "data": {
            "text/html": [
              "<html>\n",
              "<head><meta charset=\"utf-8\" /></head>\n",
              "<body>\n",
              "    <div>            <script src=\"https://cdnjs.cloudflare.com/ajax/libs/mathjax/2.7.5/MathJax.js?config=TeX-AMS-MML_SVG\"></script><script type=\"text/javascript\">if (window.MathJax && window.MathJax.Hub && window.MathJax.Hub.Config) {window.MathJax.Hub.Config({SVG: {font: \"STIX-Web\"}});}</script>                <script type=\"text/javascript\">window.PlotlyConfig = {MathJaxConfig: 'local'};</script>\n",
              "        <script charset=\"utf-8\" src=\"https://cdn.plot.ly/plotly-2.35.2.min.js\"></script>                <div id=\"eb797e80-22b3-4f31-bf47-d41847ae7405\" class=\"plotly-graph-div\" style=\"height:525px; width:100%;\"></div>            <script type=\"text/javascript\">                                    window.PLOTLYENV=window.PLOTLYENV || {};                                    if (document.getElementById(\"eb797e80-22b3-4f31-bf47-d41847ae7405\")) {                    Plotly.newPlot(                        \"eb797e80-22b3-4f31-bf47-d41847ae7405\",                        [{\"customdata\":[[27,92],[32,64],[16,54],[24,78],[28,70],[17,55],[17,62],[11,67],[20,54],[19,60],[24,52],[17,62],[32,64],[19,77],[20,67],[31,78],[16,67],[17,79],[20,107],[33,116],[13,59],[20,23],[27,60],[19,68],[33,80],[13,70],[15,47],[21,66],[13,102],[19,41],[16,79],[23,57],[18,77],[21,96],[18,65],[68,72],[33,54],[19,39],[26,85],[20,63],[37,92],[39,68],[25,101],[14,84],[14,65],[21,61],[16,56],[25,50],[22,75],[25,40],[23,74],[22,64],[36,57],[23,48],[19,52],[29,65],[21,82],[22,49],[26,67],[24,63],[34,45],[15,72],[8,55],[22,52],[19,71],[20,77],[17,67],[24,51],[30,75],[21,63],[23,63],[19,67],[22,66],[21,73],[21,54],[14,80],[28,90],[19,72],[25,55],[25,78],[30,101],[22,51],[33,99],[18,58],[27,60],[18,58],[26,47],[25,65],[20,79],[25,83],[21,68],[20,48],[32,69],[12,66],[30,62],[17,51],[37,61],[18,89],[18,65],[26,75],[20,59],[13,61],[27,63],[23,84],[19,95],[29,35],[23,80],[15,109],[5,65],[20,107],[55,76],[23,86],[23,42],[25,80],[49,96],[15,67],[20,40],[21,60],[17,90],[16,57],[39,55],[27,101],[20,134],[21,76],[27,93],[16,67],[21,73],[28,55],[21,45],[14,74],[16,66],[18,63],[39,78],[45,44],[19,59],[11,44],[20,64],[23,57],[23,70],[19,59],[26,80],[22,60],[26,63],[21,62],[14,50],[19,76],[26,70],[42,62],[23,62],[26,63],[38,56],[24,82],[26,63],[15,37],[23,60],[23,43],[50,74],[25,87],[34,99],[19,72],[20,93],[25,50],[26,57],[28,76],[17,55],[29,63],[32,79],[35,93],[47,84],[22,71],[19,99],[23,44],[21,62],[17,94],[39,67],[22,71],[25,69],[20,59],[48,95],[22,50],[47,62],[28,93],[41,77],[24,66],[34,57],[64,80],[33,108],[28,92],[37,77],[34,83],[21,75],[18,56],[20,97],[20,91],[13,62],[20,85],[15,48],[25,74],[14,77],[18,94],[19,70],[15,54],[26,105],[28,79],[22,96],[14,82],[23,73],[25,87],[32,82],[8,79],[26,119],[18,69],[21,107],[27,115],[15,67],[34,101],[12,84],[20,101],[22,46],[29,122],[25,88],[15,79],[26,69],[20,63],[17,64],[24,58],[27,81],[29,78],[28,74],[27,58],[18,56],[30,57],[75,74],[25,75],[20,68],[21,56],[21,65],[20,65],[16,58],[23,58],[13,62],[20,57],[30,54],[27,41],[26,67],[19,80],[15,60],[14,60],[22,65],[24,63],[22,92],[19,78],[23,62],[30,59],[32,82],[20,71],[15,44],[24,66],[17,58],[29,61],[24,69],[17,87],[21,58],[18,44],[19,75],[26,91],[15,85],[25,109],[27,59],[23,58],[15,57],[27,65],[22,71],[20,55],[17,64],[26,47],[20,72],[49,58],[22,54],[25,50],[21,62],[22,48],[22,68],[19,70],[26,70],[56,117],[14,45],[21,49],[32,73],[17,63],[18,57],[13,45],[20,68],[35,55],[47,86],[33,46],[23,52],[27,72],[18,59],[82,43],[26,56],[17,52],[16,45],[21,42],[23,102],[26,71],[34,73],[29,54],[14,67],[26,101],[33,53],[43,94],[16,43],[18,68],[19,36],[42,86],[57,66],[26,80],[25,74],[27,93],[22,109],[24,46],[78,82],[18,50],[23,57],[32,52],[30,70],[19,55],[24,123],[23,55],[25,73],[20,80],[24,83],[35,91],[21,138],[22,41],[25,123],[34,93],[23,87],[43,56],[24,75],[43,69],[35,77],[26,68],[45,99]],\"hovertemplate\":\"MCV=%{x}\\u003cbr\\u003eDrinks=%{y}\\u003cbr\\u003eALT=%{marker.size}\\u003cbr\\u003eAST=%{customdata[0]}\\u003cbr\\u003eALP=%{customdata[1]}\\u003cbr\\u003eGGT=%{marker.color}\\u003cextra\\u003e\\u003c\\u002fextra\\u003e\",\"legendgroup\":\"\",\"marker\":{\"color\":[31,23,54,36,10,17,9,11,7,5,15,15,13,18,11,18,10,16,56,11,19,20,5,19,97,26,18,10,19,16,17,42,29,40,11,82,22,9,30,38,44,42,13,16,18,13,10,50,11,38,16,11,90,43,30,15,19,19,36,24,27,18,13,11,27,19,14,23,13,14,57,35,9,22,16,42,156,30,16,30,64,48,16,26,297,26,29,9,11,7,26,6,30,15,20,27,53,104,36,24,25,81,10,13,14,17,27,18,7,50,9,21,17,17,169,8,21,14,25,16,42,23,14,24,31,16,48,82,13,22,33,18,107,150,12,15,24,22,112,11,20,28,15,36,15,50,36,76,20,15,92,37,21,16,76,69,67,44,48,19,68,17,33,41,14,29,84,120,62,52,26,73,21,6,114,52,66,14,200,53,60,123,31,26,73,55,94,49,108,201,14,12,32,15,5,12,12,15,21,8,22,12,56,14,135,35,11,19,18,9,17,31,27,7,12,14,10,53,18,42,35,24,11,14,14,16,36,62,48,59,27,22,159,38,71,33,22,31,13,23,22,13,13,34,13,14,19,8,10,85,37,115,14,48,38,22,18,21,17,31,64,26,28,23,70,25,10,27,34,18,16,17,11,16,26,33,84,51,35,53,26,14,9,23,21,52,21,29,39,46,37,16,19,108,52,55,34,55,19,121,23,12,12,49,37,31,115,23,14,32,92,82,54,19,15,203,114,20,43,47,28,39,203,14,12,24,33,25,31,44,225,53,28,126,48,37,23,37,11,55,41,203,89,14,65],\"coloraxis\":\"coloraxis\",\"size\":[45,59,33,34,12,13,20,21,22,25,13,17,61,25,29,20,23,17,20,11,35,35,23,18,47,24,28,20,17,31,28,31,32,28,22,155,47,14,25,24,68,26,18,18,25,19,14,29,24,29,19,24,64,11,21,23,21,20,26,24,33,14,4,15,32,26,5,26,19,16,29,35,27,34,20,19,43,28,9,27,34,41,42,21,30,21,33,17,22,20,27,20,45,23,42,23,32,23,26,26,25,18,22,18,25,27,37,33,17,29,22,28,26,24,34,11,19,17,15,15,48,17,14,14,29,10,24,28,19,19,21,26,47,113,15,21,16,21,25,17,10,26,25,37,13,37,70,64,20,25,67,27,12,9,29,35,87,57,36,17,21,18,20,31,19,24,70,58,58,29,33,42,22,18,77,29,25,17,85,26,59,22,86,22,31,50,53,22,39,81,25,23,41,27,17,25,27,31,30,26,19,27,40,37,35,23,24,19,33,17,30,24,34,17,23,27,11,41,29,35,28,18,22,19,12,18,41,52,38,36,30,30,148,20,17,25,18,25,14,16,15,13,26,33,32,21,23,32,28,45,21,31,24,41,43,33,24,28,31,28,70,18,33,18,37,30,14,26,37,20,9,38,12,20,21,35,31,83,25,27,29,32,20,17,21,77,11,27,46,17,31,19,14,29,52,15,22,33,23,154,38,10,20,14,47,25,33,41,15,31,51,43,11,24,38,58,103,10,27,21,16,30,34,12,33,76,46,36,28,18,20,17,25,56,45,37,20,35,15,52,26,53,55,27,57],\"sizemode\":\"area\",\"sizeref\":0.3875,\"symbol\":\"circle\"},\"mode\":\"markers\",\"name\":\"\",\"orientation\":\"v\",\"showlegend\":false,\"x\":[85,85,86,91,87,98,88,88,92,90,89,82,90,86,96,91,89,89,91,94,92,93,90,96,84,92,90,88,91,87,86,91,93,88,94,91,85,79,85,89,84,89,89,86,85,88,92,95,91,83,89,85,92,94,87,85,84,88,96,90,90,90,91,91,87,89,89,85,103,90,90,90,87,90,86,90,87,96,91,95,92,89,91,94,92,94,88,92,92,84,88,86,99,88,89,90,81,89,89,92,85,92,89,90,88,89,91,91,91,88,87,87,87,88,90,86,92,85,89,91,96,79,90,89,88,90,92,91,83,90,92,93,86,97,87,86,87,92,90,99,92,95,91,92,95,90,96,95,92,91,82,92,90,88,100,98,91,92,93,90,97,93,90,92,88,89,92,92,93,97,84,96,90,92,90,97,91,93,92,90,91,92,92,86,98,95,92,97,93,94,87,88,84,94,97,92,82,88,95,88,91,83,91,86,91,89,90,90,89,85,85,78,88,89,92,89,91,94,88,88,84,90,87,65,90,85,88,86,82,86,94,87,98,94,83,93,101,92,92,86,85,86,86,81,91,91,92,91,93,90,87,83,95,93,84,87,86,86,88,90,88,93,98,91,87,94,88,89,87,93,88,94,91,90,91,88,82,85,91,98,86,89,82,83,96,94,93,93,84,91,90,87,91,86,91,88,85,89,95,94,96,90,94,99,93,94,92,87,92,98,92,97,93,93,95,99,98,92,96,95,86,91,102,85,91,91,93,87,98,82,95,97,100,88,91,92,86,91,87,87,99,96,98,91,98],\"xaxis\":\"x\",\"y\":[0.0,0.0,0.0,0.0,0.0,0.0,0.5,0.5,0.5,0.5,0.5,0.5,0.5,0.5,0.5,0.5,0.5,0.5,0.5,0.5,0.5,0.5,0.5,0.5,0.5,0.5,0.5,0.5,0.5,0.5,0.5,0.5,0.5,0.5,0.5,0.5,0.5,0.5,0.5,0.5,0.5,0.5,0.5,0.5,0.5,0.5,0.5,0.5,0.5,0.5,0.5,0.5,0.5,0.5,0.5,0.5,0.5,0.5,0.5,0.5,0.5,0.5,0.5,0.5,1.0,1.0,1.0,1.0,1.0,1.0,2.0,2.0,2.0,2.0,2.0,2.0,2.0,2.0,2.0,2.0,2.0,2.0,2.0,2.0,2.0,2.0,2.0,2.0,3.0,3.0,3.0,3.0,3.0,3.0,3.0,3.0,3.0,3.0,3.0,3.0,3.0,3.0,4.0,4.0,4.0,4.0,4.0,4.0,4.0,4.0,4.0,4.0,4.0,4.0,4.0,4.0,4.0,4.0,4.0,4.0,4.0,4.0,4.0,4.0,4.0,4.0,4.0,4.0,4.0,4.0,5.0,5.0,5.0,5.0,5.0,5.0,5.0,5.0,5.0,5.0,6.0,6.0,6.0,6.0,6.0,6.0,6.0,6.0,6.0,6.0,6.0,6.0,6.0,6.0,6.0,6.0,6.0,6.0,6.0,6.0,6.0,6.0,6.0,6.0,6.0,6.0,7.0,7.0,7.0,8.0,8.0,8.0,8.0,8.0,8.0,8.0,8.0,8.0,8.0,8.0,8.0,9.0,10.0,10.0,10.0,10.0,12.0,12.0,16.0,20.0,0.0,0.0,0.0,0.5,0.5,0.5,0.5,0.5,0.5,0.5,0.5,0.5,0.5,0.5,0.5,0.5,0.5,0.5,0.5,0.5,0.5,0.5,0.5,0.5,0.5,0.5,0.5,0.5,0.5,0.5,0.5,0.5,0.5,0.5,0.5,0.5,0.5,0.5,0.5,0.5,0.5,0.5,0.5,0.5,0.5,0.5,0.5,0.5,0.5,0.5,0.5,0.5,0.5,1.0,1.0,1.0,1.0,1.0,1.0,1.0,1.0,1.0,1.0,1.0,2.0,2.0,2.0,2.0,2.0,2.0,2.0,2.0,2.0,2.0,2.0,2.0,2.0,2.0,2.0,2.0,2.0,3.0,3.0,3.0,3.0,3.0,3.0,3.0,4.0,4.0,4.0,4.0,4.0,4.0,4.0,4.0,4.0,4.0,4.0,4.0,4.0,4.0,4.0,4.0,4.0,4.0,4.0,4.0,4.0,4.0,5.0,5.0,5.0,5.0,5.0,5.0,5.0,6.0,6.0,6.0,6.0,6.0,6.0,6.0,6.0,6.0,6.0,6.0,6.0,6.0,6.0,7.0,7.0,7.0,8.0,8.0,8.0,8.0,8.0,8.0,8.0,8.0,8.0,9.0,10.0,10.0,10.0,10.0,10.0,10.0,12.0,12.0,15.0,16.0,20.0],\"yaxis\":\"y\",\"type\":\"scatter\"}],                        {\"template\":{\"data\":{\"histogram2dcontour\":[{\"type\":\"histogram2dcontour\",\"colorbar\":{\"outlinewidth\":0,\"ticks\":\"\"},\"colorscale\":[[0.0,\"#0d0887\"],[0.1111111111111111,\"#46039f\"],[0.2222222222222222,\"#7201a8\"],[0.3333333333333333,\"#9c179e\"],[0.4444444444444444,\"#bd3786\"],[0.5555555555555556,\"#d8576b\"],[0.6666666666666666,\"#ed7953\"],[0.7777777777777778,\"#fb9f3a\"],[0.8888888888888888,\"#fdca26\"],[1.0,\"#f0f921\"]]}],\"choropleth\":[{\"type\":\"choropleth\",\"colorbar\":{\"outlinewidth\":0,\"ticks\":\"\"}}],\"histogram2d\":[{\"type\":\"histogram2d\",\"colorbar\":{\"outlinewidth\":0,\"ticks\":\"\"},\"colorscale\":[[0.0,\"#0d0887\"],[0.1111111111111111,\"#46039f\"],[0.2222222222222222,\"#7201a8\"],[0.3333333333333333,\"#9c179e\"],[0.4444444444444444,\"#bd3786\"],[0.5555555555555556,\"#d8576b\"],[0.6666666666666666,\"#ed7953\"],[0.7777777777777778,\"#fb9f3a\"],[0.8888888888888888,\"#fdca26\"],[1.0,\"#f0f921\"]]}],\"heatmap\":[{\"type\":\"heatmap\",\"colorbar\":{\"outlinewidth\":0,\"ticks\":\"\"},\"colorscale\":[[0.0,\"#0d0887\"],[0.1111111111111111,\"#46039f\"],[0.2222222222222222,\"#7201a8\"],[0.3333333333333333,\"#9c179e\"],[0.4444444444444444,\"#bd3786\"],[0.5555555555555556,\"#d8576b\"],[0.6666666666666666,\"#ed7953\"],[0.7777777777777778,\"#fb9f3a\"],[0.8888888888888888,\"#fdca26\"],[1.0,\"#f0f921\"]]}],\"heatmapgl\":[{\"type\":\"heatmapgl\",\"colorbar\":{\"outlinewidth\":0,\"ticks\":\"\"},\"colorscale\":[[0.0,\"#0d0887\"],[0.1111111111111111,\"#46039f\"],[0.2222222222222222,\"#7201a8\"],[0.3333333333333333,\"#9c179e\"],[0.4444444444444444,\"#bd3786\"],[0.5555555555555556,\"#d8576b\"],[0.6666666666666666,\"#ed7953\"],[0.7777777777777778,\"#fb9f3a\"],[0.8888888888888888,\"#fdca26\"],[1.0,\"#f0f921\"]]}],\"contourcarpet\":[{\"type\":\"contourcarpet\",\"colorbar\":{\"outlinewidth\":0,\"ticks\":\"\"}}],\"contour\":[{\"type\":\"contour\",\"colorbar\":{\"outlinewidth\":0,\"ticks\":\"\"},\"colorscale\":[[0.0,\"#0d0887\"],[0.1111111111111111,\"#46039f\"],[0.2222222222222222,\"#7201a8\"],[0.3333333333333333,\"#9c179e\"],[0.4444444444444444,\"#bd3786\"],[0.5555555555555556,\"#d8576b\"],[0.6666666666666666,\"#ed7953\"],[0.7777777777777778,\"#fb9f3a\"],[0.8888888888888888,\"#fdca26\"],[1.0,\"#f0f921\"]]}],\"surface\":[{\"type\":\"surface\",\"colorbar\":{\"outlinewidth\":0,\"ticks\":\"\"},\"colorscale\":[[0.0,\"#0d0887\"],[0.1111111111111111,\"#46039f\"],[0.2222222222222222,\"#7201a8\"],[0.3333333333333333,\"#9c179e\"],[0.4444444444444444,\"#bd3786\"],[0.5555555555555556,\"#d8576b\"],[0.6666666666666666,\"#ed7953\"],[0.7777777777777778,\"#fb9f3a\"],[0.8888888888888888,\"#fdca26\"],[1.0,\"#f0f921\"]]}],\"mesh3d\":[{\"type\":\"mesh3d\",\"colorbar\":{\"outlinewidth\":0,\"ticks\":\"\"}}],\"scatter\":[{\"fillpattern\":{\"fillmode\":\"overlay\",\"size\":10,\"solidity\":0.2},\"type\":\"scatter\"}],\"parcoords\":[{\"type\":\"parcoords\",\"line\":{\"colorbar\":{\"outlinewidth\":0,\"ticks\":\"\"}}}],\"scatterpolargl\":[{\"type\":\"scatterpolargl\",\"marker\":{\"colorbar\":{\"outlinewidth\":0,\"ticks\":\"\"}}}],\"bar\":[{\"error_x\":{\"color\":\"#2a3f5f\"},\"error_y\":{\"color\":\"#2a3f5f\"},\"marker\":{\"line\":{\"color\":\"#E5ECF6\",\"width\":0.5},\"pattern\":{\"fillmode\":\"overlay\",\"size\":10,\"solidity\":0.2}},\"type\":\"bar\"}],\"scattergeo\":[{\"type\":\"scattergeo\",\"marker\":{\"colorbar\":{\"outlinewidth\":0,\"ticks\":\"\"}}}],\"scatterpolar\":[{\"type\":\"scatterpolar\",\"marker\":{\"colorbar\":{\"outlinewidth\":0,\"ticks\":\"\"}}}],\"histogram\":[{\"marker\":{\"pattern\":{\"fillmode\":\"overlay\",\"size\":10,\"solidity\":0.2}},\"type\":\"histogram\"}],\"scattergl\":[{\"type\":\"scattergl\",\"marker\":{\"colorbar\":{\"outlinewidth\":0,\"ticks\":\"\"}}}],\"scatter3d\":[{\"type\":\"scatter3d\",\"line\":{\"colorbar\":{\"outlinewidth\":0,\"ticks\":\"\"}},\"marker\":{\"colorbar\":{\"outlinewidth\":0,\"ticks\":\"\"}}}],\"scattermapbox\":[{\"type\":\"scattermapbox\",\"marker\":{\"colorbar\":{\"outlinewidth\":0,\"ticks\":\"\"}}}],\"scatterternary\":[{\"type\":\"scatterternary\",\"marker\":{\"colorbar\":{\"outlinewidth\":0,\"ticks\":\"\"}}}],\"scattercarpet\":[{\"type\":\"scattercarpet\",\"marker\":{\"colorbar\":{\"outlinewidth\":0,\"ticks\":\"\"}}}],\"carpet\":[{\"aaxis\":{\"endlinecolor\":\"#2a3f5f\",\"gridcolor\":\"white\",\"linecolor\":\"white\",\"minorgridcolor\":\"white\",\"startlinecolor\":\"#2a3f5f\"},\"baxis\":{\"endlinecolor\":\"#2a3f5f\",\"gridcolor\":\"white\",\"linecolor\":\"white\",\"minorgridcolor\":\"white\",\"startlinecolor\":\"#2a3f5f\"},\"type\":\"carpet\"}],\"table\":[{\"cells\":{\"fill\":{\"color\":\"#EBF0F8\"},\"line\":{\"color\":\"white\"}},\"header\":{\"fill\":{\"color\":\"#C8D4E3\"},\"line\":{\"color\":\"white\"}},\"type\":\"table\"}],\"barpolar\":[{\"marker\":{\"line\":{\"color\":\"#E5ECF6\",\"width\":0.5},\"pattern\":{\"fillmode\":\"overlay\",\"size\":10,\"solidity\":0.2}},\"type\":\"barpolar\"}],\"pie\":[{\"automargin\":true,\"type\":\"pie\"}]},\"layout\":{\"autotypenumbers\":\"strict\",\"colorway\":[\"#636efa\",\"#EF553B\",\"#00cc96\",\"#ab63fa\",\"#FFA15A\",\"#19d3f3\",\"#FF6692\",\"#B6E880\",\"#FF97FF\",\"#FECB52\"],\"font\":{\"color\":\"#2a3f5f\"},\"hovermode\":\"closest\",\"hoverlabel\":{\"align\":\"left\"},\"paper_bgcolor\":\"white\",\"plot_bgcolor\":\"#E5ECF6\",\"polar\":{\"bgcolor\":\"#E5ECF6\",\"angularaxis\":{\"gridcolor\":\"white\",\"linecolor\":\"white\",\"ticks\":\"\"},\"radialaxis\":{\"gridcolor\":\"white\",\"linecolor\":\"white\",\"ticks\":\"\"}},\"ternary\":{\"bgcolor\":\"#E5ECF6\",\"aaxis\":{\"gridcolor\":\"white\",\"linecolor\":\"white\",\"ticks\":\"\"},\"baxis\":{\"gridcolor\":\"white\",\"linecolor\":\"white\",\"ticks\":\"\"},\"caxis\":{\"gridcolor\":\"white\",\"linecolor\":\"white\",\"ticks\":\"\"}},\"coloraxis\":{\"colorbar\":{\"outlinewidth\":0,\"ticks\":\"\"}},\"colorscale\":{\"sequential\":[[0.0,\"#0d0887\"],[0.1111111111111111,\"#46039f\"],[0.2222222222222222,\"#7201a8\"],[0.3333333333333333,\"#9c179e\"],[0.4444444444444444,\"#bd3786\"],[0.5555555555555556,\"#d8576b\"],[0.6666666666666666,\"#ed7953\"],[0.7777777777777778,\"#fb9f3a\"],[0.8888888888888888,\"#fdca26\"],[1.0,\"#f0f921\"]],\"sequentialminus\":[[0.0,\"#0d0887\"],[0.1111111111111111,\"#46039f\"],[0.2222222222222222,\"#7201a8\"],[0.3333333333333333,\"#9c179e\"],[0.4444444444444444,\"#bd3786\"],[0.5555555555555556,\"#d8576b\"],[0.6666666666666666,\"#ed7953\"],[0.7777777777777778,\"#fb9f3a\"],[0.8888888888888888,\"#fdca26\"],[1.0,\"#f0f921\"]],\"diverging\":[[0,\"#8e0152\"],[0.1,\"#c51b7d\"],[0.2,\"#de77ae\"],[0.3,\"#f1b6da\"],[0.4,\"#fde0ef\"],[0.5,\"#f7f7f7\"],[0.6,\"#e6f5d0\"],[0.7,\"#b8e186\"],[0.8,\"#7fbc41\"],[0.9,\"#4d9221\"],[1,\"#276419\"]]},\"xaxis\":{\"gridcolor\":\"white\",\"linecolor\":\"white\",\"ticks\":\"\",\"title\":{\"standoff\":15},\"zerolinecolor\":\"white\",\"automargin\":true,\"zerolinewidth\":2},\"yaxis\":{\"gridcolor\":\"white\",\"linecolor\":\"white\",\"ticks\":\"\",\"title\":{\"standoff\":15},\"zerolinecolor\":\"white\",\"automargin\":true,\"zerolinewidth\":2},\"scene\":{\"xaxis\":{\"backgroundcolor\":\"#E5ECF6\",\"gridcolor\":\"white\",\"linecolor\":\"white\",\"showbackground\":true,\"ticks\":\"\",\"zerolinecolor\":\"white\",\"gridwidth\":2},\"yaxis\":{\"backgroundcolor\":\"#E5ECF6\",\"gridcolor\":\"white\",\"linecolor\":\"white\",\"showbackground\":true,\"ticks\":\"\",\"zerolinecolor\":\"white\",\"gridwidth\":2},\"zaxis\":{\"backgroundcolor\":\"#E5ECF6\",\"gridcolor\":\"white\",\"linecolor\":\"white\",\"showbackground\":true,\"ticks\":\"\",\"zerolinecolor\":\"white\",\"gridwidth\":2}},\"shapedefaults\":{\"line\":{\"color\":\"#2a3f5f\"}},\"annotationdefaults\":{\"arrowcolor\":\"#2a3f5f\",\"arrowhead\":0,\"arrowwidth\":1},\"geo\":{\"bgcolor\":\"white\",\"landcolor\":\"#E5ECF6\",\"subunitcolor\":\"white\",\"showland\":true,\"showlakes\":true,\"lakecolor\":\"white\"},\"title\":{\"x\":0.05},\"mapbox\":{\"style\":\"light\"}}},\"xaxis\":{\"anchor\":\"y\",\"domain\":[0.0,1.0],\"title\":{\"text\":\"MCV\"}},\"yaxis\":{\"anchor\":\"x\",\"domain\":[0.0,1.0],\"title\":{\"text\":\"Drinks\"}},\"coloraxis\":{\"colorbar\":{\"title\":{\"text\":\"GGT\"}},\"colorscale\":[[0.0,\"#0d0887\"],[0.1111111111111111,\"#46039f\"],[0.2222222222222222,\"#7201a8\"],[0.3333333333333333,\"#9c179e\"],[0.4444444444444444,\"#bd3786\"],[0.5555555555555556,\"#d8576b\"],[0.6666666666666666,\"#ed7953\"],[0.7777777777777778,\"#fb9f3a\"],[0.8888888888888888,\"#fdca26\"],[1.0,\"#f0f921\"]]},\"legend\":{\"tracegroupgap\":0,\"itemsizing\":\"constant\"},\"title\":{\"text\":\"MCV vs Drinks with ALT as Size and GGT as Color\"}},                        {\"responsive\": true}                    ).then(function(){\n",
              "                            \n",
              "var gd = document.getElementById('eb797e80-22b3-4f31-bf47-d41847ae7405');\n",
              "var x = new MutationObserver(function (mutations, observer) {{\n",
              "        var display = window.getComputedStyle(gd).display;\n",
              "        if (!display || display === 'none') {{\n",
              "            console.log([gd, 'removed!']);\n",
              "            Plotly.purge(gd);\n",
              "            observer.disconnect();\n",
              "        }}\n",
              "}});\n",
              "\n",
              "// Listen for the removal of the full notebook cells\n",
              "var notebookContainer = gd.closest('#notebook-container');\n",
              "if (notebookContainer) {{\n",
              "    x.observe(notebookContainer, {childList: true});\n",
              "}}\n",
              "\n",
              "// Listen for the clearing of the current output cell\n",
              "var outputEl = gd.closest('.output');\n",
              "if (outputEl) {{\n",
              "    x.observe(outputEl, {childList: true});\n",
              "}}\n",
              "\n",
              "                        })                };                            </script>        </div>\n",
              "</body>\n",
              "</html>"
            ]
          },
          "metadata": {}
        }
      ]
    },
    {
      "cell_type": "markdown",
      "source": [
        "## 5. Conclusion\n",
        "This exercise demonstrated the value of a comprehensive approach to data analysis, utilizing tools such as SQL, DuckDB, and various visualization techniques. SQL and DuckDB were instrumental in querying and preparing the data for analysis. By employing a range of visualization techniques, including box plots, correlation analysis, and Plotly Express, we were able to gain a deeper understanding of our data. Box plots provided insights into the distribution of individual variables, while correlation analysis and the interactive visualizations from Plotly Express helped us uncover potential relationships and patterns. This exercise emphasizes the importance of selecting and utilizing appropriate visualization methods to effectively explore and communicate data-driven insights."
      ],
      "metadata": {
        "id": "iCEaJhYhVQhx"
      }
    }
  ]
}